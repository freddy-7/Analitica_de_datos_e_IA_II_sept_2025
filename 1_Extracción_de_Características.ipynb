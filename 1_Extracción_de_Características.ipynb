{
  "cells": [
    {
      "cell_type": "markdown",
      "metadata": {
        "colab_type": "text",
        "id": "view-in-github"
      },
      "source": [
        "<a href=\"https://colab.research.google.com/github/freddy-7/TI3002C/blob/main/5_Extracci%C3%B3n_de_Caracter%C3%ADsticas.ipynb\" target=\"_parent\"><img src=\"https://colab.research.google.com/assets/colab-badge.svg\" alt=\"Open In Colab\"/></a>"
      ]
    },
    {
      "cell_type": "code",
      "execution_count": 1,
      "metadata": {
        "id": "KBvqPLFySzaI"
      },
      "outputs": [],
      "source": [
        "#Importamos las librerias pandas, numpy y matplotlib respectivamente\n",
        "import pandas as pd\n",
        "import numpy as np\n",
        "import matplotlib.pyplot as plt"
      ]
    },
    {
      "cell_type": "code",
      "execution_count": 2,
      "metadata": {
        "id": "jXyYdUiSTJAe"
      },
      "outputs": [],
      "source": [
        "#Carga desde un archivo .xlsx sin indice\n",
        "Micro_Retailer= pd.read_excel('microretailer_mit_lift_lab.xlsx') "
      ]
    },
    {
      "cell_type": "code",
      "execution_count": null,
      "metadata": {
        "colab": {
          "base_uri": "https://localhost:8080/"
        },
        "id": "pqHhJArjTVP3",
        "outputId": "a7ee30c0-12f6-4a9f-8b58-c29e433154dc"
      },
      "outputs": [],
      "source": [
        "#Verificamos información del DataFrame\n",
        "Micro_Retailer.info()"
      ]
    },
    {
      "cell_type": "code",
      "execution_count": 6,
      "metadata": {
        "colab": {
          "base_uri": "https://localhost:8080/",
          "height": 525
        },
        "id": "vyjGnKI4Tqvl",
        "outputId": "d7c23770-df23-4570-d9cb-6440bfd985ec"
      },
      "outputs": [
        {
          "data": {
            "text/html": [
              "<div>\n",
              "<style scoped>\n",
              "    .dataframe tbody tr th:only-of-type {\n",
              "        vertical-align: middle;\n",
              "    }\n",
              "\n",
              "    .dataframe tbody tr th {\n",
              "        vertical-align: top;\n",
              "    }\n",
              "\n",
              "    .dataframe thead th {\n",
              "        text-align: right;\n",
              "    }\n",
              "</style>\n",
              "<table border=\"1\" class=\"dataframe\">\n",
              "  <thead>\n",
              "    <tr style=\"text-align: right;\">\n",
              "      <th></th>\n",
              "      <th>_record_id</th>\n",
              "      <th>_title</th>\n",
              "      <th>_server_updated_at</th>\n",
              "      <th>_updated_by</th>\n",
              "      <th>_geometry</th>\n",
              "      <th>_latitude</th>\n",
              "      <th>_longitude</th>\n",
              "      <th>228_store_name</th>\n",
              "      <th>229_store_picture</th>\n",
              "      <th>232_type_of_store</th>\n",
              "      <th>...</th>\n",
              "      <th>261_technology_organization</th>\n",
              "      <th>262_technology_serve_customers</th>\n",
              "      <th>263_technology_secure_sales</th>\n",
              "      <th>264_technology_budget</th>\n",
              "      <th>267_technology_investment_customer_preferences</th>\n",
              "      <th>234_willingness_participate_workshop</th>\n",
              "      <th>318_shopkeeper_name</th>\n",
              "      <th>319_shopkeepers_last_name</th>\n",
              "      <th>236_whatsapp</th>\n",
              "      <th>235_email</th>\n",
              "    </tr>\n",
              "  </thead>\n",
              "  <tbody>\n",
              "    <tr>\n",
              "      <th>0</th>\n",
              "      <td>dff2998e-af74-4de6-8efd-488aca24e67b</td>\n",
              "      <td>November 12, 2022</td>\n",
              "      <td>2022-11-12 22:15:10 UTC</td>\n",
              "      <td>Salomon Abdala Perez</td>\n",
              "      <td>SRID=4326;POINT(-98.233822273 19.0535362706)</td>\n",
              "      <td>19.053536</td>\n",
              "      <td>-98.233822</td>\n",
              "      <td>Eugene’s Compostura</td>\n",
              "      <td>1 Photo</td>\n",
              "      <td>Tailor</td>\n",
              "      <td>...</td>\n",
              "      <td>NaN</td>\n",
              "      <td>NaN</td>\n",
              "      <td>NaN</td>\n",
              "      <td>NaN</td>\n",
              "      <td>NaN</td>\n",
              "      <td>no</td>\n",
              "      <td>NaN</td>\n",
              "      <td>NaN</td>\n",
              "      <td>NaN</td>\n",
              "      <td>NaN</td>\n",
              "    </tr>\n",
              "    <tr>\n",
              "      <th>1</th>\n",
              "      <td>c596412f-4fc2-4983-acba-d9565859e42f</td>\n",
              "      <td>November 12, 2022</td>\n",
              "      <td>2022-11-12 22:15:09 UTC</td>\n",
              "      <td>Salomon Abdala Perez</td>\n",
              "      <td>SRID=4326;POINT(-98.2341421351 19.0535610353)</td>\n",
              "      <td>19.053561</td>\n",
              "      <td>-98.234142</td>\n",
              "      <td>Frutas y verduras Angy</td>\n",
              "      <td>1 Photo</td>\n",
              "      <td>Grocery store (aka. nanostore)</td>\n",
              "      <td>...</td>\n",
              "      <td>NaN</td>\n",
              "      <td>NaN</td>\n",
              "      <td>NaN</td>\n",
              "      <td>NaN</td>\n",
              "      <td>NaN</td>\n",
              "      <td>no</td>\n",
              "      <td>NaN</td>\n",
              "      <td>NaN</td>\n",
              "      <td>NaN</td>\n",
              "      <td>NaN</td>\n",
              "    </tr>\n",
              "    <tr>\n",
              "      <th>2</th>\n",
              "      <td>5bb632b3-41b5-4fb6-a817-b564e8b45a48</td>\n",
              "      <td>November 12, 2022</td>\n",
              "      <td>2022-11-12 22:15:09 UTC</td>\n",
              "      <td>Salomon Abdala Perez</td>\n",
              "      <td>SRID=4326;POINT(-98.232299887 19.058654656)</td>\n",
              "      <td>19.058655</td>\n",
              "      <td>-98.232300</td>\n",
              "      <td>Libélula</td>\n",
              "      <td>1 Photo</td>\n",
              "      <td>Grocery store (aka. nanostore)</td>\n",
              "      <td>...</td>\n",
              "      <td>NaN</td>\n",
              "      <td>NaN</td>\n",
              "      <td>NaN</td>\n",
              "      <td>NaN</td>\n",
              "      <td>NaN</td>\n",
              "      <td>no</td>\n",
              "      <td>NaN</td>\n",
              "      <td>NaN</td>\n",
              "      <td>NaN</td>\n",
              "      <td>NaN</td>\n",
              "    </tr>\n",
              "    <tr>\n",
              "      <th>3</th>\n",
              "      <td>6774a0f6-bab4-4a58-bf94-95ad0b7cb438</td>\n",
              "      <td>November 12, 2022</td>\n",
              "      <td>2022-11-12 22:15:09 UTC</td>\n",
              "      <td>Salomon Abdala Perez</td>\n",
              "      <td>SRID=4326;POINT(-98.2331576513 19.0592929035)</td>\n",
              "      <td>19.059293</td>\n",
              "      <td>-98.233158</td>\n",
              "      <td>Quality fix</td>\n",
              "      <td>1 Photo</td>\n",
              "      <td>Grocery store (aka. nanostore)</td>\n",
              "      <td>...</td>\n",
              "      <td>NaN</td>\n",
              "      <td>NaN</td>\n",
              "      <td>NaN</td>\n",
              "      <td>NaN</td>\n",
              "      <td>NaN</td>\n",
              "      <td>no</td>\n",
              "      <td>NaN</td>\n",
              "      <td>NaN</td>\n",
              "      <td>NaN</td>\n",
              "      <td>NaN</td>\n",
              "    </tr>\n",
              "    <tr>\n",
              "      <th>4</th>\n",
              "      <td>6cc637fa-3d54-48c7-9499-6de13d0a26aa</td>\n",
              "      <td>November 12, 2022</td>\n",
              "      <td>2022-11-12 22:15:08 UTC</td>\n",
              "      <td>Salomon Abdala Perez</td>\n",
              "      <td>SRID=4326;POINT(-98.2338639604 19.0595846029)</td>\n",
              "      <td>19.059585</td>\n",
              "      <td>-98.233864</td>\n",
              "      <td>Artesanías Los Pinos</td>\n",
              "      <td>1 Photo</td>\n",
              "      <td>Grocery store (aka. nanostore)</td>\n",
              "      <td>...</td>\n",
              "      <td>NaN</td>\n",
              "      <td>NaN</td>\n",
              "      <td>NaN</td>\n",
              "      <td>NaN</td>\n",
              "      <td>NaN</td>\n",
              "      <td>no</td>\n",
              "      <td>NaN</td>\n",
              "      <td>NaN</td>\n",
              "      <td>NaN</td>\n",
              "      <td>NaN</td>\n",
              "    </tr>\n",
              "  </tbody>\n",
              "</table>\n",
              "<p>5 rows × 106 columns</p>\n",
              "</div>"
            ],
            "text/plain": [
              "                             _record_id             _title  \\\n",
              "0  dff2998e-af74-4de6-8efd-488aca24e67b  November 12, 2022   \n",
              "1  c596412f-4fc2-4983-acba-d9565859e42f  November 12, 2022   \n",
              "2  5bb632b3-41b5-4fb6-a817-b564e8b45a48  November 12, 2022   \n",
              "3  6774a0f6-bab4-4a58-bf94-95ad0b7cb438  November 12, 2022   \n",
              "4  6cc637fa-3d54-48c7-9499-6de13d0a26aa  November 12, 2022   \n",
              "\n",
              "        _server_updated_at           _updated_by  \\\n",
              "0  2022-11-12 22:15:10 UTC  Salomon Abdala Perez   \n",
              "1  2022-11-12 22:15:09 UTC  Salomon Abdala Perez   \n",
              "2  2022-11-12 22:15:09 UTC  Salomon Abdala Perez   \n",
              "3  2022-11-12 22:15:09 UTC  Salomon Abdala Perez   \n",
              "4  2022-11-12 22:15:08 UTC  Salomon Abdala Perez   \n",
              "\n",
              "                                       _geometry  _latitude  _longitude  \\\n",
              "0   SRID=4326;POINT(-98.233822273 19.0535362706)  19.053536  -98.233822   \n",
              "1  SRID=4326;POINT(-98.2341421351 19.0535610353)  19.053561  -98.234142   \n",
              "2    SRID=4326;POINT(-98.232299887 19.058654656)  19.058655  -98.232300   \n",
              "3  SRID=4326;POINT(-98.2331576513 19.0592929035)  19.059293  -98.233158   \n",
              "4  SRID=4326;POINT(-98.2338639604 19.0595846029)  19.059585  -98.233864   \n",
              "\n",
              "           228_store_name 229_store_picture               232_type_of_store  \\\n",
              "0     Eugene’s Compostura           1 Photo                          Tailor   \n",
              "1  Frutas y verduras Angy           1 Photo  Grocery store (aka. nanostore)   \n",
              "2               Libélula            1 Photo  Grocery store (aka. nanostore)   \n",
              "3             Quality fix           1 Photo  Grocery store (aka. nanostore)   \n",
              "4    Artesanías Los Pinos           1 Photo  Grocery store (aka. nanostore)   \n",
              "\n",
              "   ... 261_technology_organization 262_technology_serve_customers  \\\n",
              "0  ...                         NaN                            NaN   \n",
              "1  ...                         NaN                            NaN   \n",
              "2  ...                         NaN                            NaN   \n",
              "3  ...                         NaN                            NaN   \n",
              "4  ...                         NaN                            NaN   \n",
              "\n",
              "  263_technology_secure_sales  264_technology_budget  \\\n",
              "0                         NaN                    NaN   \n",
              "1                         NaN                    NaN   \n",
              "2                         NaN                    NaN   \n",
              "3                         NaN                    NaN   \n",
              "4                         NaN                    NaN   \n",
              "\n",
              "   267_technology_investment_customer_preferences  \\\n",
              "0                                             NaN   \n",
              "1                                             NaN   \n",
              "2                                             NaN   \n",
              "3                                             NaN   \n",
              "4                                             NaN   \n",
              "\n",
              "  234_willingness_participate_workshop  318_shopkeeper_name  \\\n",
              "0                                   no                  NaN   \n",
              "1                                   no                  NaN   \n",
              "2                                   no                  NaN   \n",
              "3                                   no                  NaN   \n",
              "4                                   no                  NaN   \n",
              "\n",
              "  319_shopkeepers_last_name 236_whatsapp 235_email  \n",
              "0                       NaN          NaN       NaN  \n",
              "1                       NaN          NaN       NaN  \n",
              "2                       NaN          NaN       NaN  \n",
              "3                       NaN          NaN       NaN  \n",
              "4                       NaN          NaN       NaN  \n",
              "\n",
              "[5 rows x 106 columns]"
            ]
          },
          "execution_count": 6,
          "metadata": {},
          "output_type": "execute_result"
        }
      ],
      "source": [
        "#Imprimo los primeros 5 registro del dataframe\n",
        "Micro_Retailer.head()"
      ]
    },
    {
      "cell_type": "code",
      "execution_count": null,
      "metadata": {
        "id": "1Ff43X1qT4KU"
      },
      "outputs": [],
      "source": [
        "#Obtengo un análisis univariado de las variables categóricas\n",
        "Tabla_freq = Micro_Retailer['214_customer_relationship_tools'].value_counts().reset_index()\n",
        "Tabla_freq"
      ]
    },
    {
      "cell_type": "code",
      "execution_count": 9,
      "metadata": {
        "colab": {
          "base_uri": "https://localhost:8080/",
          "height": 206
        },
        "id": "HBrncXHSXKJZ",
        "outputId": "c9459ea8-f0e7-44b0-85bc-d60a424485d5"
      },
      "outputs": [
        {
          "data": {
            "text/html": [
              "<div>\n",
              "<style scoped>\n",
              "    .dataframe tbody tr th:only-of-type {\n",
              "        vertical-align: middle;\n",
              "    }\n",
              "\n",
              "    .dataframe tbody tr th {\n",
              "        vertical-align: top;\n",
              "    }\n",
              "\n",
              "    .dataframe thead th {\n",
              "        text-align: right;\n",
              "    }\n",
              "</style>\n",
              "<table border=\"1\" class=\"dataframe\">\n",
              "  <thead>\n",
              "    <tr style=\"text-align: right;\">\n",
              "      <th></th>\n",
              "      <th>214_customer_relationship_tools</th>\n",
              "      <th>count</th>\n",
              "    </tr>\n",
              "  </thead>\n",
              "  <tbody>\n",
              "    <tr>\n",
              "      <th>0</th>\n",
              "      <td>Redes sociales</td>\n",
              "      <td>27</td>\n",
              "    </tr>\n",
              "    <tr>\n",
              "      <th>1</th>\n",
              "      <td>Aplicación móvil</td>\n",
              "      <td>21</td>\n",
              "    </tr>\n",
              "    <tr>\n",
              "      <th>2</th>\n",
              "      <td>Ninguna</td>\n",
              "      <td>20</td>\n",
              "    </tr>\n",
              "    <tr>\n",
              "      <th>3</th>\n",
              "      <td>Aplicación móvil,Redes sociales</td>\n",
              "      <td>13</td>\n",
              "    </tr>\n",
              "    <tr>\n",
              "      <th>4</th>\n",
              "      <td>Cuaderno</td>\n",
              "      <td>6</td>\n",
              "    </tr>\n",
              "  </tbody>\n",
              "</table>\n",
              "</div>"
            ],
            "text/plain": [
              "   214_customer_relationship_tools  count\n",
              "0                   Redes sociales     27\n",
              "1                 Aplicación móvil     21\n",
              "2                          Ninguna     20\n",
              "3  Aplicación móvil,Redes sociales     13\n",
              "4                         Cuaderno      6"
            ]
          },
          "execution_count": 9,
          "metadata": {},
          "output_type": "execute_result"
        }
      ],
      "source": [
        "#Obtengo un filtro de los valores más reelevantes de la variable categórica seleccionada\n",
        "Filtro= Tabla_freq[Tabla_freq['count']>1]\n",
        "Filtro"
      ]
    },
    {
      "cell_type": "code",
      "execution_count": null,
      "metadata": {
        "colab": {
          "base_uri": "https://localhost:8080/",
          "height": 237
        },
        "id": "aK1m_EA9XP3Y",
        "outputId": "bb1ba9e6-0532-4c3a-a11d-aa36b164c1cb"
      },
      "outputs": [],
      "source": [
        "#Ajusto el indice de mi dataframe\n",
        "Filtro_index= Filtro.set_index('214_customer_relationship_tools')\n",
        "Filtro_index"
      ]
    },
    {
      "cell_type": "code",
      "execution_count": null,
      "metadata": {
        "colab": {
          "base_uri": "https://localhost:8080/",
          "height": 633
        },
        "id": "glFrKFfxXWeg",
        "outputId": "21e6c6f2-8c35-42ac-8915-ffe0559ca107"
      },
      "outputs": [],
      "source": [
        "#Realizamos grafico de barras del dataframe filtrado\n",
        "Filtro_index.plot(kind = 'bar', width=0.8, figsize=(8,3), color= \"red\")\n",
        "plt.title('Herramientas de relación con los clientes')\n",
        "plt.xlabel('Tipo de Herramienta')\n",
        "plt.ylabel('Frecuencia')"
      ]
    },
    {
      "cell_type": "code",
      "execution_count": null,
      "metadata": {
        "colab": {
          "base_uri": "https://localhost:8080/",
          "height": 405
        },
        "id": "WkpKLeOgXhwU",
        "outputId": "685e024b-acc2-4603-b6fd-5b350b361e08"
      },
      "outputs": [],
      "source": [
        "#Realizamos grafico de área del dataframe filtrado\n",
        "Filtro_index.plot(kind='area', figsize=(10,4),alpha = 0.5)"
      ]
    },
    {
      "cell_type": "code",
      "execution_count": null,
      "metadata": {
        "colab": {
          "base_uri": "https://localhost:8080/",
          "height": 439
        },
        "id": "bcs_yH_TXmqo",
        "outputId": "44c5c3e5-9830-424f-ad58-2903d4854bdc"
      },
      "outputs": [],
      "source": [
        "#Realizamos grafico de pastel del dataframe filtrado\n",
        "Filtro_index[\"count\"].plot(kind='pie', figsize=(10,5), shadow=True, autopct=\"%0.1f %%\")"
      ]
    },
    {
      "cell_type": "markdown",
      "metadata": {},
      "source": [
        "**Determinación de Clases para datos agrupados**\n"
      ]
    },
    {
      "cell_type": "code",
      "execution_count": null,
      "metadata": {},
      "outputs": [],
      "source": [
        "#Calculamos el numero total de la población \"n\"\n",
        "Micro_Retailer['104_how_many_shelves_does_the_micro_retailer_have']. info()\n",
        "n=171"
      ]
    },
    {
      "cell_type": "code",
      "execution_count": 19,
      "metadata": {},
      "outputs": [
        {
          "data": {
            "text/plain": [
              "[0, 150]"
            ]
          },
          "execution_count": 19,
          "metadata": {},
          "output_type": "execute_result"
        }
      ],
      "source": [
        "#Obtenemos el limite superior y el límite inferior de la columna objetivo\n",
        "Max=Micro_Retailer['104_how_many_shelves_does_the_micro_retailer_have'].max()\n",
        "Min=Micro_Retailer['104_how_many_shelves_does_the_micro_retailer_have'].min()\n",
        "Limites= [Min, Max]\n",
        "Limites"
      ]
    },
    {
      "cell_type": "code",
      "execution_count": 20,
      "metadata": {},
      "outputs": [
        {
          "data": {
            "text/plain": [
              "150"
            ]
          },
          "execution_count": 20,
          "metadata": {},
          "output_type": "execute_result"
        }
      ],
      "source": [
        "#Calculamos el rango R\n",
        "R=Max-Min\n",
        "R"
      ]
    },
    {
      "cell_type": "code",
      "execution_count": 21,
      "metadata": {},
      "outputs": [
        {
          "data": {
            "text/plain": [
              "np.float64(8.41354708650195)"
            ]
          },
          "execution_count": 21,
          "metadata": {},
          "output_type": "execute_result"
        }
      ],
      "source": [
        "#Calculamos el número de Intervalos de Clase \"ni\", aplicando la regla de Sturges\n",
        "ni= 1+3.32*np.log10(n)\n",
        "ni"
      ]
    },
    {
      "cell_type": "code",
      "execution_count": 22,
      "metadata": {},
      "outputs": [
        {
          "data": {
            "text/plain": [
              "np.float64(17.828390149577757)"
            ]
          },
          "execution_count": 22,
          "metadata": {},
          "output_type": "execute_result"
        }
      ],
      "source": [
        "#Calculamos el Ancho del Intervalo \"i\"\n",
        "i=R/ni\n",
        "i"
      ]
    },
    {
      "cell_type": "markdown",
      "metadata": {},
      "source": [
        "**Creación de Categorias a partir de clases**"
      ]
    },
    {
      "cell_type": "code",
      "execution_count": 24,
      "metadata": {},
      "outputs": [
        {
          "data": {
            "text/plain": [
              "array([-1.00000e-01,  1.86750e+01,  3.74500e+01,  5.62250e+01,\n",
              "        7.50000e+01,  9.37750e+01,  1.12550e+02,  1.31325e+02,\n",
              "        1.50100e+02])"
            ]
          },
          "execution_count": 24,
          "metadata": {},
          "output_type": "execute_result"
        }
      ],
      "source": [
        "#Categorización de variables\n",
        "#Declaramos 8 intervalos \n",
        "#Ajustamos los limites para que todos los valores sean incluidos en los intervalos\n",
        "#Ampliamos los límites en una unidad sobre los decimales menos significativos\n",
        "#con la intención de incluir los valores que caigan justo en los límites\n",
        "intervalos=np.linspace(-0.1, 150.1, 9)\n",
        "intervalos"
      ]
    },
    {
      "cell_type": "code",
      "execution_count": 26,
      "metadata": {},
      "outputs": [],
      "source": [
        "#Creamos las categorías \n",
        "categorias= [\"Categoría1 (0 a 18)\", \"Categoría2 (19 a 37)\",\"Categoría3 (38 a 56)\", \"Categoría4 (57 a 75)\",\n",
        "             \"Categoría5 (76 a 93)\", \"Categoría6 (94 a 112)\",\"Categoría7 (113 a 131)\", \"Categoría8 (131 a 150)\"]"
      ]
    },
    {
      "cell_type": "code",
      "execution_count": 27,
      "metadata": {},
      "outputs": [
        {
          "data": {
            "text/plain": [
              "0       Categoría1 (0 a 18)\n",
              "1       Categoría1 (0 a 18)\n",
              "2      Categoría2 (19 a 37)\n",
              "3       Categoría1 (0 a 18)\n",
              "4       Categoría1 (0 a 18)\n",
              "               ...         \n",
              "166     Categoría1 (0 a 18)\n",
              "167     Categoría1 (0 a 18)\n",
              "168     Categoría1 (0 a 18)\n",
              "169     Categoría1 (0 a 18)\n",
              "170     Categoría1 (0 a 18)\n",
              "Name: 104_how_many_shelves_does_the_micro_retailer_have, Length: 171, dtype: category\n",
              "Categories (8, object): ['Categoría1 (0 a 18)' < 'Categoría2 (19 a 37)' < 'Categoría3 (38 a 56)' < 'Categoría4 (57 a 75)' < 'Categoría5 (76 a 93)' < 'Categoría6 (94 a 112)' < 'Categoría7 (113 a 131)' < 'Categoría8 (131 a 150)']"
            ]
          },
          "execution_count": 27,
          "metadata": {},
          "output_type": "execute_result"
        }
      ],
      "source": [
        "#Finalmente creamos las categorías en la columna numérica\n",
        "Micro_Retailer['104_how_many_shelves_does_the_micro_retailer_have']=pd.cut(x= Micro_Retailer['104_how_many_shelves_does_the_micro_retailer_have'], bins=intervalos, labels= categorias)\n",
        "Micro_Retailer['104_how_many_shelves_does_the_micro_retailer_have']"
      ]
    },
    {
      "cell_type": "code",
      "execution_count": 28,
      "metadata": {},
      "outputs": [
        {
          "data": {
            "text/html": [
              "<div>\n",
              "<style scoped>\n",
              "    .dataframe tbody tr th:only-of-type {\n",
              "        vertical-align: middle;\n",
              "    }\n",
              "\n",
              "    .dataframe tbody tr th {\n",
              "        vertical-align: top;\n",
              "    }\n",
              "\n",
              "    .dataframe thead th {\n",
              "        text-align: right;\n",
              "    }\n",
              "</style>\n",
              "<table border=\"1\" class=\"dataframe\">\n",
              "  <thead>\n",
              "    <tr style=\"text-align: right;\">\n",
              "      <th></th>\n",
              "      <th>104_how_many_shelves_does_the_micro_retailer_have</th>\n",
              "      <th>count</th>\n",
              "    </tr>\n",
              "  </thead>\n",
              "  <tbody>\n",
              "    <tr>\n",
              "      <th>0</th>\n",
              "      <td>Categoría1 (0 a 18)</td>\n",
              "      <td>163</td>\n",
              "    </tr>\n",
              "    <tr>\n",
              "      <th>1</th>\n",
              "      <td>Categoría2 (19 a 37)</td>\n",
              "      <td>5</td>\n",
              "    </tr>\n",
              "    <tr>\n",
              "      <th>2</th>\n",
              "      <td>Categoría4 (57 a 75)</td>\n",
              "      <td>1</td>\n",
              "    </tr>\n",
              "    <tr>\n",
              "      <th>3</th>\n",
              "      <td>Categoría8 (131 a 150)</td>\n",
              "      <td>1</td>\n",
              "    </tr>\n",
              "    <tr>\n",
              "      <th>4</th>\n",
              "      <td>Categoría7 (113 a 131)</td>\n",
              "      <td>1</td>\n",
              "    </tr>\n",
              "    <tr>\n",
              "      <th>5</th>\n",
              "      <td>Categoría3 (38 a 56)</td>\n",
              "      <td>0</td>\n",
              "    </tr>\n",
              "    <tr>\n",
              "      <th>6</th>\n",
              "      <td>Categoría6 (94 a 112)</td>\n",
              "      <td>0</td>\n",
              "    </tr>\n",
              "    <tr>\n",
              "      <th>7</th>\n",
              "      <td>Categoría5 (76 a 93)</td>\n",
              "      <td>0</td>\n",
              "    </tr>\n",
              "  </tbody>\n",
              "</table>\n",
              "</div>"
            ],
            "text/plain": [
              "  104_how_many_shelves_does_the_micro_retailer_have  count\n",
              "0                               Categoría1 (0 a 18)    163\n",
              "1                              Categoría2 (19 a 37)      5\n",
              "2                              Categoría4 (57 a 75)      1\n",
              "3                            Categoría8 (131 a 150)      1\n",
              "4                            Categoría7 (113 a 131)      1\n",
              "5                              Categoría3 (38 a 56)      0\n",
              "6                             Categoría6 (94 a 112)      0\n",
              "7                              Categoría5 (76 a 93)      0"
            ]
          },
          "execution_count": 28,
          "metadata": {},
          "output_type": "execute_result"
        }
      ],
      "source": [
        "#Obtengo un análisis univariado de las variables categóricas\n",
        "Tabla_freq = Micro_Retailer['104_how_many_shelves_does_the_micro_retailer_have'].value_counts().reset_index()\n",
        "Tabla_freq"
      ]
    },
    {
      "cell_type": "code",
      "execution_count": 29,
      "metadata": {},
      "outputs": [
        {
          "data": {
            "text/html": [
              "<div>\n",
              "<style scoped>\n",
              "    .dataframe tbody tr th:only-of-type {\n",
              "        vertical-align: middle;\n",
              "    }\n",
              "\n",
              "    .dataframe tbody tr th {\n",
              "        vertical-align: top;\n",
              "    }\n",
              "\n",
              "    .dataframe thead th {\n",
              "        text-align: right;\n",
              "    }\n",
              "</style>\n",
              "<table border=\"1\" class=\"dataframe\">\n",
              "  <thead>\n",
              "    <tr style=\"text-align: right;\">\n",
              "      <th></th>\n",
              "      <th>104_how_many_shelves_does_the_micro_retailer_have</th>\n",
              "      <th>count</th>\n",
              "    </tr>\n",
              "  </thead>\n",
              "  <tbody>\n",
              "    <tr>\n",
              "      <th>0</th>\n",
              "      <td>Categoría1 (0 a 18)</td>\n",
              "      <td>163</td>\n",
              "    </tr>\n",
              "    <tr>\n",
              "      <th>1</th>\n",
              "      <td>Categoría2 (19 a 37)</td>\n",
              "      <td>5</td>\n",
              "    </tr>\n",
              "    <tr>\n",
              "      <th>2</th>\n",
              "      <td>Categoría4 (57 a 75)</td>\n",
              "      <td>1</td>\n",
              "    </tr>\n",
              "    <tr>\n",
              "      <th>3</th>\n",
              "      <td>Categoría8 (131 a 150)</td>\n",
              "      <td>1</td>\n",
              "    </tr>\n",
              "    <tr>\n",
              "      <th>4</th>\n",
              "      <td>Categoría7 (113 a 131)</td>\n",
              "      <td>1</td>\n",
              "    </tr>\n",
              "  </tbody>\n",
              "</table>\n",
              "</div>"
            ],
            "text/plain": [
              "  104_how_many_shelves_does_the_micro_retailer_have  count\n",
              "0                               Categoría1 (0 a 18)    163\n",
              "1                              Categoría2 (19 a 37)      5\n",
              "2                              Categoría4 (57 a 75)      1\n",
              "3                            Categoría8 (131 a 150)      1\n",
              "4                            Categoría7 (113 a 131)      1"
            ]
          },
          "execution_count": 29,
          "metadata": {},
          "output_type": "execute_result"
        }
      ],
      "source": [
        "#Obtengo un filtro de los valores más reelevantes de la variable categórica seleccionada\n",
        "Filtro= Tabla_freq[Tabla_freq['count']>0]\n",
        "Filtro"
      ]
    },
    {
      "cell_type": "code",
      "execution_count": 30,
      "metadata": {},
      "outputs": [
        {
          "data": {
            "text/html": [
              "<div>\n",
              "<style scoped>\n",
              "    .dataframe tbody tr th:only-of-type {\n",
              "        vertical-align: middle;\n",
              "    }\n",
              "\n",
              "    .dataframe tbody tr th {\n",
              "        vertical-align: top;\n",
              "    }\n",
              "\n",
              "    .dataframe thead th {\n",
              "        text-align: right;\n",
              "    }\n",
              "</style>\n",
              "<table border=\"1\" class=\"dataframe\">\n",
              "  <thead>\n",
              "    <tr style=\"text-align: right;\">\n",
              "      <th></th>\n",
              "      <th>count</th>\n",
              "    </tr>\n",
              "    <tr>\n",
              "      <th>104_how_many_shelves_does_the_micro_retailer_have</th>\n",
              "      <th></th>\n",
              "    </tr>\n",
              "  </thead>\n",
              "  <tbody>\n",
              "    <tr>\n",
              "      <th>Categoría1 (0 a 18)</th>\n",
              "      <td>163</td>\n",
              "    </tr>\n",
              "    <tr>\n",
              "      <th>Categoría2 (19 a 37)</th>\n",
              "      <td>5</td>\n",
              "    </tr>\n",
              "    <tr>\n",
              "      <th>Categoría4 (57 a 75)</th>\n",
              "      <td>1</td>\n",
              "    </tr>\n",
              "    <tr>\n",
              "      <th>Categoría8 (131 a 150)</th>\n",
              "      <td>1</td>\n",
              "    </tr>\n",
              "    <tr>\n",
              "      <th>Categoría7 (113 a 131)</th>\n",
              "      <td>1</td>\n",
              "    </tr>\n",
              "  </tbody>\n",
              "</table>\n",
              "</div>"
            ],
            "text/plain": [
              "                                                   count\n",
              "104_how_many_shelves_does_the_micro_retailer_have       \n",
              "Categoría1 (0 a 18)                                  163\n",
              "Categoría2 (19 a 37)                                   5\n",
              "Categoría4 (57 a 75)                                   1\n",
              "Categoría8 (131 a 150)                                 1\n",
              "Categoría7 (113 a 131)                                 1"
            ]
          },
          "execution_count": 30,
          "metadata": {},
          "output_type": "execute_result"
        }
      ],
      "source": [
        "#Ajusto el indice de mi dataframe\n",
        "Filtro_index= Filtro.set_index('104_how_many_shelves_does_the_micro_retailer_have')\n",
        "Filtro_index"
      ]
    },
    {
      "cell_type": "code",
      "execution_count": 31,
      "metadata": {},
      "outputs": [
        {
          "data": {
            "text/plain": [
              "Text(0, 0.5, 'Frecuencia')"
            ]
          },
          "execution_count": 31,
          "metadata": {},
          "output_type": "execute_result"
        },
        {
          "data": {
            "image/png": "[encoded data removed]",
            "text/plain": [
              "<Figure size 1000x400 with 1 Axes>"
            ]
          },
          "metadata": {},
          "output_type": "display_data"
        }
      ],
      "source": [
        "#Realizamos grafico de barras del dataframe filtrado\n",
        "Filtro_index.plot(kind = 'bar', width=0.8, figsize=(10,4), color= \"green\", rot=45)\n",
        "plt.title('¿Cuántos estantes tiene el microminorista?')\n",
        "plt.xlabel('Numero de Estantes')\n",
        "plt.ylabel('Frecuencia')\n",
        "\n"
      ]
    }
  ],
  "metadata": {
    "colab": {
      "authorship_tag": "ABX9TyNHlbB4kN9BmzXOkXW/nCS1",
      "include_colab_link": true,
      "provenance": []
    },
    "kernelspec": {
      "display_name": "base",
      "language": "python",
      "name": "python3"
    },
    "language_info": {
      "codemirror_mode": {
        "name": "ipython",
        "version": 3
      },
      "file_extension": ".py",
      "mimetype": "text/x-python",
      "name": "python",
      "nbconvert_exporter": "python",
      "pygments_lexer": "ipython3",
      "version": "3.13.5"
    }
  },
  "nbformat": 4,
  "nbformat_minor": 0
}
